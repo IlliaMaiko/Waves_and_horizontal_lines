{
 "cells": [
  {
   "cell_type": "code",
   "execution_count": 1,
   "metadata": {},
   "outputs": [],
   "source": [
    "import numpy as np\n",
    "import scipy as scp\n",
    "from scipy.special import legendre\n",
    "import matplotlib.pyplot as plt"
   ]
  },
  {
   "cell_type": "code",
   "execution_count": 2,
   "metadata": {},
   "outputs": [],
   "source": [
    "def P_s(s, v):\n",
    "    s = (s >= 0) * s + (s < 0) * (np.abs(s) - 1)\n",
    "    p = legendre(s)\n",
    "    return p(v)"
   ]
  },
  {
   "cell_type": "code",
   "execution_count": 3,
   "metadata": {},
   "outputs": [],
   "source": [
    "def t_s(s, v):\n",
    "    return (s == 0) * 1 + (s == 1) * (-v) + (s > 1) * (P_s(s, v) - 2 * v * P_s(s - 1, v) + P_s(s - 2, v))"
   ]
  },
  {
   "cell_type": "code",
   "execution_count": 4,
   "metadata": {},
   "outputs": [],
   "source": [
    "def T_m_n(m, n, theta):\n",
    "    v = -np.cos(theta)\n",
    "    if m == n:\n",
    "        if m == 0:\n",
    "            return np.log((1 - v)/2)\n",
    "        return (1 + sum(t_s(s, v) * P_s(s - 1, v) for s in range(1, np.abs(m))))/(2*np.abs(m))\n",
    "    return np.power(-1, np.abs(m + n))*(P_s(m, v) * P_s(n - 1, v) - P_s(m - 1, v) * P_s(n, v))/(2*(m - n))"
   ]
  },
  {
   "cell_type": "code",
   "execution_count": 5,
   "metadata": {},
   "outputs": [],
   "source": [
    "d = 2\n",
    "l = 4\n",
    "theta = (d * np.pi)/l\n",
    "k = 1.1\n",
    "Num = 3"
   ]
  },
  {
   "cell_type": "code",
   "execution_count": 6,
   "metadata": {},
   "outputs": [],
   "source": [
    "def gamma_n(n, angle = theta, line = d, element = l):\n",
    "    return n"
   ]
  },
  {
   "cell_type": "code",
   "execution_count": 7,
   "metadata": {},
   "outputs": [],
   "source": [
    "def beta_n(n, env_coef = k, angle = theta, line = d, element = l):\n",
    "    g_n = gamma_n(n)\n",
    "    if env_coef < np.abs(g_n):\n",
    "        return 1j * np.sqrt(np.abs(np.power(env_coef, 2) - np.power(g_n, 2)))\n",
    "    else:\n",
    "        return np.sqrt(np.abs(np.power(env_coef, 2) - np.power(g_n, 2)))"
   ]
  },
  {
   "cell_type": "code",
   "execution_count": 8,
   "metadata": {},
   "outputs": [],
   "source": [
    "def U_p(x, y, C_p, exp_to_beta, exp_to_gamma):\n",
    "    return np.sum(np.multiply(C_p, np.multiply(np.power(exp_to_beta, y), np.power(exp_to_gamma, x))))"
   ]
  },
  {
   "cell_type": "code",
   "execution_count": 9,
   "metadata": {},
   "outputs": [],
   "source": [
    "def U_m(x, y, C_m, exp_to_beta, exp_to_gamma):\n",
    "    return np.sum(np.multiply(C_m, np.multiply(np.power(exp_to_beta, -y), np.power(exp_to_gamma, x))))"
   ]
  },
  {
   "cell_type": "code",
   "execution_count": 10,
   "metadata": {},
   "outputs": [],
   "source": [
    "def U_zero(x, y, env_coef = k):\n",
    "    return np.exp(-env_coef * 1j * y)"
   ]
  },
  {
   "cell_type": "code",
   "execution_count": 11,
   "metadata": {},
   "outputs": [],
   "source": [
    "def U_fun(x, y, C_p, C_m, exp_to_beta, exp_to_gamma, env_coef = k):\n",
    "    if y >= 0:\n",
    "        return U_zero(x, y, env_coef) + U_p(x, y, C_p, exp_to_beta, exp_to_gamma)\n",
    "    else:\n",
    "        return U_m(x, y, C_m, exp_to_beta, exp_to_gamma)"
   ]
  },
  {
   "cell_type": "code",
   "execution_count": 98,
   "metadata": {},
   "outputs": [],
   "source": [
    "def data_to_plot(grid_num, k = 1.1, y_axis = [-4, 4], d = 2, l = 4, Num = 50):\n",
    "    theta = (d * np.pi)/l\n",
    "    x_axis = [-l/2, l/2]\n",
    "    X_m_n = list([[1j*(i == j) + (beta_n(j, k) - 1j*np.abs(j))*T_m_n(i, j, theta) for i in range(-Num, Num + 1)] for j in range(-Num, Num + 1)])\n",
    "    B = list([-k*T_m_n(i, 0, theta) for i in range(-Num, Num + 1)])\n",
    "    A = np.linalg.solve(X_m_n, B)\n",
    "    C_p = list([A[Num + i] - (i == 0) for i in range(-Num, Num + 1)])\n",
    "    C_m = A\n",
    "    exp_to_beta = list([np.exp(1j * beta_n(i, k)) for i in range(-Num, Num + 1)])\n",
    "    exp_to_gamma = list([np.exp(1j * gamma_n(i)) for i in range(-Num, Num + 1)])\n",
    "    \n",
    "    data = [[np.linalg.norm(U_fun(x_axis[0] + ((x_axis[1] - x_axis[0]) / grid_num) * i, y_axis[0] + ((y_axis[1] - y_axis[0]) / grid_num) * j, C_p, C_m, exp_to_beta, exp_to_gamma, k)) for i in range(grid_num)] for j in range(grid_num)]\n",
    "    \n",
    "    return data"
   ]
  },
  {
   "cell_type": "code",
   "execution_count": 103,
   "metadata": {},
   "outputs": [],
   "source": [
    "data = data_to_plot(20, 5.1)"
   ]
  },
  {
   "cell_type": "code",
   "execution_count": 104,
   "metadata": {},
   "outputs": [
    {
     "data": {
      "image/png": "[encoded data removed]",
      "text/plain": [
       "<Figure size 432x288 with 2 Axes>"
      ]
     },
     "metadata": {
      "needs_background": "light"
     },
     "output_type": "display_data"
    }
   ],
   "source": [
    "plt.contourf(data, levels = 16)\n",
    "plt.colorbar()\n",
    "plt.show()"
   ]
  },
  {
   "cell_type": "code",
   "execution_count": 85,
   "metadata": {},
   "outputs": [],
   "source": [
    "def data_to_plot_env(y_axis = [-4, 4], d = 1, l = 4, Num = 10):\n",
    "    data = []\n",
    "    theta = (d * np.pi)/l\n",
    "    x_axis = [-l/2, l/2]\n",
    "    for r in range(1,35):\n",
    "        k = r/10\n",
    "        X_m_n = list([[1j*(i == j) + (beta_n(j) - 1j*np.abs(j))*T_m_n(i, j, theta) for i in range(-Num, Num + 1)] for j in range(-Num, Num + 1)])\n",
    "        B = list([-k*T_m_n(i, 0, theta) for i in range(-Num, Num + 1)])\n",
    "        A = np.linalg.solve(X_m_n, B)\n",
    "    \n",
    "        res = 0\n",
    "        for i in range(-int(np.abs(np.round(k))), int(np.abs(np.round(k))) + 1):\n",
    "            res += beta_n(i, k)*np.power(np.linalg.norm(A[i]), 2)/k\n",
    "        data.append(res)\n",
    "    return data"
   ]
  },
  {
   "cell_type": "code",
   "execution_count": 86,
   "metadata": {},
   "outputs": [],
   "source": [
    "data_env = data_to_plot_env()"
   ]
  },
  {
   "cell_type": "code",
   "execution_count": 87,
   "metadata": {},
   "outputs": [
    {
     "data": {
      "text/plain": [
       "[<matplotlib.lines.Line2D at 0xbe0f048>]"
      ]
     },
     "execution_count": 87,
     "metadata": {},
     "output_type": "execute_result"
    },
    {
     "data": {
      "image/png": "[encoded data removed]",
      "text/plain": [
       "<Figure size 432x288 with 1 Axes>"
      ]
     },
     "metadata": {
      "needs_background": "light"
     },
     "output_type": "display_data"
    }
   ],
   "source": [
    "plt.plot(data_env)"
   ]
  },
  {
   "cell_type": "code",
   "execution_count": null,
   "metadata": {},
   "outputs": [],
   "source": []
  }
 ],
 "metadata": {
  "kernelspec": {
   "display_name": "Python 3",
   "language": "python",
   "name": "python3"
  },
  "language_info": {
   "codemirror_mode": {
    "name": "ipython",
    "version": 3
   },
   "file_extension": ".py",
   "mimetype": "text/x-python",
   "name": "python",
   "nbconvert_exporter": "python",
   "pygments_lexer": "ipython3",
   "version": "3.7.3"
  }
 },
 "nbformat": 4,
 "nbformat_minor": 2
}
